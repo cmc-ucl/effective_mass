{
 "cells": [
  {
   "cell_type": "markdown",
   "id": "33f0df74",
   "metadata": {},
   "source": [
    "elapiezo:\n",
    "example runs fine, change the geometry it stops"
   ]
  },
  {
   "cell_type": "markdown",
   "id": "b178f0e9",
   "metadata": {},
   "source": [
    "# Effective mass "
   ]
  },
  {
   "cell_type": "markdown",
   "id": "a520fccf",
   "metadata": {},
   "source": [
    "- grid of k points in 3D\n",
    "    - input:\n",
    "        - center point\n",
    "        - number of points\n",
    "        - max distance (spacing)\n",
    "    - output:\n",
    "        - k point coordinates (frac)\n",
    "\n",
    "- energy of points on the grid\n",
    "    - input:\n",
    "        - fractional coordinates\n",
    "        - band number\n",
    "        - CRYSTALpytools -> shrinking factor\n",
    "        - CRYSTALpytools -> band structure input file 1 per k-point\n",
    "    - output:\n",
    "        - a lot of .BANDS files\n",
    "- script to extract the energy from .BANDS files\n",
    "- calculate 2nd derivatives using finite differences\n"
   ]
  },
  {
   "cell_type": "code",
   "execution_count": 30,
   "id": "8c233aed",
   "metadata": {},
   "outputs": [],
   "source": [
    "import numpy as np\n",
    "from CRYSTALpytools.crystal_io import *\n",
    "from CRYSTALpytools.convert import *"
   ]
  },
  {
   "cell_type": "code",
   "execution_count": 174,
   "id": "501851b5",
   "metadata": {},
   "outputs": [
    {
     "name": "stdout",
     "output_type": "stream",
     "text": [
      "0\n",
      "Generated 3D integer grid points:\n",
      "0.3333333333333333\n"
     ]
    }
   ],
   "source": [
    "import numpy as np\n",
    "\n",
    "def generate_3d_integer_grid(max_values):\n",
    "    # Generate 1D arrays of integer points for each dimension\n",
    "    x = np.arange(-max_values[0], max_values[0] + 1, dtype=int)\n",
    "    y = np.arange(-max_values[1], max_values[1] + 1, dtype=int)\n",
    "    z = np.arange(-max_values[2], max_values[2] + 1, dtype=int)\n",
    "\n",
    "    # Create a mesh grid\n",
    "    x_grid, y_grid, z_grid = np.meshgrid(x, y, z, indexing='ij')\n",
    "\n",
    "    # Reshape the grids to 1D arrays and stack them\n",
    "    grid_points = np.column_stack((x_grid.ravel(), y_grid.ravel(), z_grid.ravel()))\n",
    "\n",
    "    return grid_points\n",
    "\n",
    "# Example usage\n",
    "max_value = 2\n",
    "max_values = [max_value,max_value,max_value]\n",
    "\n",
    "\n",
    "grid_points = generate_3d_integer_grid(max_values)\n",
    "\n",
    "print(np.lcm.reduce(np.unique(grid_points)[1:]))\n",
    "print(\"Generated 3D integer grid points:\")\n",
    "print(np.max(grid_points/6))"
   ]
  },
  {
   "cell_type": "code",
   "execution_count": 175,
   "id": "49c08836",
   "metadata": {
    "collapsed": true
   },
   "outputs": [
    {
     "data": {
      "text/plain": [
       "array([[-2, -2, -2],\n",
       "       [-2, -2, -1],\n",
       "       [-2, -2,  0],\n",
       "       [-2, -2,  1],\n",
       "       [-2, -2,  2],\n",
       "       [-2, -1, -2],\n",
       "       [-2, -1, -1],\n",
       "       [-2, -1,  0],\n",
       "       [-2, -1,  1],\n",
       "       [-2, -1,  2],\n",
       "       [-2,  0, -2],\n",
       "       [-2,  0, -1],\n",
       "       [-2,  0,  0],\n",
       "       [-2,  0,  1],\n",
       "       [-2,  0,  2],\n",
       "       [-2,  1, -2],\n",
       "       [-2,  1, -1],\n",
       "       [-2,  1,  0],\n",
       "       [-2,  1,  1],\n",
       "       [-2,  1,  2],\n",
       "       [-2,  2, -2],\n",
       "       [-2,  2, -1],\n",
       "       [-2,  2,  0],\n",
       "       [-2,  2,  1],\n",
       "       [-2,  2,  2],\n",
       "       [-1, -2, -2],\n",
       "       [-1, -2, -1],\n",
       "       [-1, -2,  0],\n",
       "       [-1, -2,  1],\n",
       "       [-1, -2,  2],\n",
       "       [-1, -1, -2],\n",
       "       [-1, -1, -1],\n",
       "       [-1, -1,  0],\n",
       "       [-1, -1,  1],\n",
       "       [-1, -1,  2],\n",
       "       [-1,  0, -2],\n",
       "       [-1,  0, -1],\n",
       "       [-1,  0,  0],\n",
       "       [-1,  0,  1],\n",
       "       [-1,  0,  2],\n",
       "       [-1,  1, -2],\n",
       "       [-1,  1, -1],\n",
       "       [-1,  1,  0],\n",
       "       [-1,  1,  1],\n",
       "       [-1,  1,  2],\n",
       "       [-1,  2, -2],\n",
       "       [-1,  2, -1],\n",
       "       [-1,  2,  0],\n",
       "       [-1,  2,  1],\n",
       "       [-1,  2,  2],\n",
       "       [ 0, -2, -2],\n",
       "       [ 0, -2, -1],\n",
       "       [ 0, -2,  0],\n",
       "       [ 0, -2,  1],\n",
       "       [ 0, -2,  2],\n",
       "       [ 0, -1, -2],\n",
       "       [ 0, -1, -1],\n",
       "       [ 0, -1,  0],\n",
       "       [ 0, -1,  1],\n",
       "       [ 0, -1,  2],\n",
       "       [ 0,  0, -2],\n",
       "       [ 0,  0, -1],\n",
       "       [ 0,  0,  0],\n",
       "       [ 0,  0,  1],\n",
       "       [ 0,  0,  2],\n",
       "       [ 0,  1, -2],\n",
       "       [ 0,  1, -1],\n",
       "       [ 0,  1,  0],\n",
       "       [ 0,  1,  1],\n",
       "       [ 0,  1,  2],\n",
       "       [ 0,  2, -2],\n",
       "       [ 0,  2, -1],\n",
       "       [ 0,  2,  0],\n",
       "       [ 0,  2,  1],\n",
       "       [ 0,  2,  2],\n",
       "       [ 1, -2, -2],\n",
       "       [ 1, -2, -1],\n",
       "       [ 1, -2,  0],\n",
       "       [ 1, -2,  1],\n",
       "       [ 1, -2,  2],\n",
       "       [ 1, -1, -2],\n",
       "       [ 1, -1, -1],\n",
       "       [ 1, -1,  0],\n",
       "       [ 1, -1,  1],\n",
       "       [ 1, -1,  2],\n",
       "       [ 1,  0, -2],\n",
       "       [ 1,  0, -1],\n",
       "       [ 1,  0,  0],\n",
       "       [ 1,  0,  1],\n",
       "       [ 1,  0,  2],\n",
       "       [ 1,  1, -2],\n",
       "       [ 1,  1, -1],\n",
       "       [ 1,  1,  0],\n",
       "       [ 1,  1,  1],\n",
       "       [ 1,  1,  2],\n",
       "       [ 1,  2, -2],\n",
       "       [ 1,  2, -1],\n",
       "       [ 1,  2,  0],\n",
       "       [ 1,  2,  1],\n",
       "       [ 1,  2,  2],\n",
       "       [ 2, -2, -2],\n",
       "       [ 2, -2, -1],\n",
       "       [ 2, -2,  0],\n",
       "       [ 2, -2,  1],\n",
       "       [ 2, -2,  2],\n",
       "       [ 2, -1, -2],\n",
       "       [ 2, -1, -1],\n",
       "       [ 2, -1,  0],\n",
       "       [ 2, -1,  1],\n",
       "       [ 2, -1,  2],\n",
       "       [ 2,  0, -2],\n",
       "       [ 2,  0, -1],\n",
       "       [ 2,  0,  0],\n",
       "       [ 2,  0,  1],\n",
       "       [ 2,  0,  2],\n",
       "       [ 2,  1, -2],\n",
       "       [ 2,  1, -1],\n",
       "       [ 2,  1,  0],\n",
       "       [ 2,  1,  1],\n",
       "       [ 2,  1,  2],\n",
       "       [ 2,  2, -2],\n",
       "       [ 2,  2, -1],\n",
       "       [ 2,  2,  0],\n",
       "       [ 2,  2,  1],\n",
       "       [ 2,  2,  2]])"
      ]
     },
     "execution_count": 175,
     "metadata": {},
     "output_type": "execute_result"
    }
   ],
   "source": [
    "grid_points"
   ]
  },
  {
   "cell_type": "code",
   "execution_count": 178,
   "id": "755a88a8",
   "metadata": {},
   "outputs": [
    {
     "name": "stderr",
     "output_type": "stream",
     "text": [
      "/var/folders/f2/8kc7y9697m59bwltxjd42y300000gn/T/ipykernel_10743/496468699.py:7: RuntimeWarning: invalid value encountered in cast\n",
      "  k_path = np.array((k_path/gcd)*10000, dtype=int)\n"
     ]
    }
   ],
   "source": [
    "k_unique = [0.5,0.25]\n",
    "k_unique = np.array(np.around(k_unique, 4)*10000, dtype=int)\n",
    "if len(k_unique) > 2:\n",
    "    gcd = np.gcd.reduce(k_unique)\n",
    "else:\n",
    "    gcd = np.gcd(k_unique[0], k_unique[1])\n",
    "k_path = np.array((k_path/gcd)*10000, dtype=int)\n",
    "shrink = int(10000/gcd)"
   ]
  },
  {
   "cell_type": "code",
   "execution_count": 134,
   "id": "137ce402",
   "metadata": {},
   "outputs": [
    {
     "data": {
      "text/plain": [
       "array([2., 2.])"
      ]
     },
     "execution_count": 134,
     "metadata": {},
     "output_type": "execute_result"
    }
   ],
   "source": [
    "center = np.array([0, 0, 0])\n",
    "num_points = 2\n",
    "np.linspace(center[0] +num_points, center[0] +num_points, num_points)"
   ]
  },
  {
   "cell_type": "code",
   "execution_count": 126,
   "id": "974ac471",
   "metadata": {
    "scrolled": true
   },
   "outputs": [
    {
     "name": "stdout",
     "output_type": "stream",
     "text": [
      "Generated 3D grid points:\n",
      "[[ 0.  -1.   0. ]\n",
      " [-0.5 -0.5 -0.5]\n",
      " [-0.5 -0.5  0. ]\n",
      " [-0.5 -0.5  0.5]\n",
      " [ 0.  -0.5 -0.5]\n",
      " [ 0.  -0.5  0. ]\n",
      " [ 0.  -0.5  0.5]\n",
      " [ 0.5 -0.5 -0.5]\n",
      " [ 0.5 -0.5  0. ]\n",
      " [ 0.5 -0.5  0.5]\n",
      " [-1.   0.   0. ]\n",
      " [-0.5  0.  -0.5]\n",
      " [-0.5  0.   0. ]\n",
      " [-0.5  0.   0.5]\n",
      " [ 0.   0.  -1. ]\n",
      " [ 0.   0.  -0.5]\n",
      " [ 0.   0.   0. ]\n",
      " [ 0.   0.   0.5]\n",
      " [ 0.   0.   1. ]\n",
      " [ 0.5  0.  -0.5]\n",
      " [ 0.5  0.   0. ]\n",
      " [ 0.5  0.   0.5]\n",
      " [ 1.   0.   0. ]\n",
      " [-0.5  0.5 -0.5]\n",
      " [-0.5  0.5  0. ]\n",
      " [-0.5  0.5  0.5]\n",
      " [ 0.   0.5 -0.5]\n",
      " [ 0.   0.5  0. ]\n",
      " [ 0.   0.5  0.5]\n",
      " [ 0.5  0.5 -0.5]\n",
      " [ 0.5  0.5  0. ]\n",
      " [ 0.5  0.5  0.5]\n",
      " [ 0.   1.   0. ]]\n"
     ]
    }
   ],
   "source": [
    "\n",
    "def generate_3d_grid(center, num_points, max_distance):\n",
    "    \n",
    "    if num_points%2 == 0:\n",
    "        num_points += 1\n",
    "    # Generate a mesh grid of coordinates\n",
    "    x = np.linspace(center[0] - max_distance, center[0] + max_distance, num_points)\n",
    "    y = np.linspace(center[1] - max_distance, center[1] + max_distance, num_points)\n",
    "    z = np.linspace(center[2] - max_distance, center[2] + max_distance, num_points)\n",
    "\n",
    "    # Create a mesh grid\n",
    "    x_grid, y_grid, z_grid = np.meshgrid(x, y, z)\n",
    "\n",
    "    # Reshape the grids to 1D arrays\n",
    "    x_points = x_grid.ravel()\n",
    "    y_points = y_grid.ravel()\n",
    "    z_points = z_grid.ravel()\n",
    "\n",
    "    # Filter points based on distance from the center\n",
    "    distances = np.sqrt((x_points - center[0])**2 + (y_points - center[1])**2 + (z_points - center[2])**2)\n",
    "    valid_points = distances <= max_distance\n",
    "\n",
    "    # Return the filtered coordinates\n",
    "    return np.column_stack((x_points[valid_points], y_points[valid_points], z_points[valid_points]))\n",
    "\n",
    "# Example usage\n",
    "center_coordinate = np.array([0.0, 0.0, 0.0])\n",
    "num_points = 4\n",
    "max_distance = 1\n",
    "\n",
    "grid_points = generate_3d_grid(center_coordinate, num_points, max_distance)\n",
    "print(\"Generated 3D grid points:\")\n",
    "print(grid_points)"
   ]
  },
  {
   "cell_type": "code",
   "execution_count": 130,
   "id": "6287c381",
   "metadata": {},
   "outputs": [
    {
     "ename": "UFuncTypeError",
     "evalue": "ufunc 'gcd' did not contain a loop with signature matching types (None, <class 'numpy.dtype[float64]'>) -> None",
     "output_type": "error",
     "traceback": [
      "\u001b[0;31m---------------------------------------------------------------------------\u001b[0m",
      "\u001b[0;31mUFuncTypeError\u001b[0m                            Traceback (most recent call last)",
      "\u001b[0;32m/var/folders/f2/8kc7y9697m59bwltxjd42y300000gn/T/ipykernel_10743/540688317.py\u001b[0m in \u001b[0;36m<module>\u001b[0;34m\u001b[0m\n\u001b[1;32m      1\u001b[0m \u001b[0mnp\u001b[0m\u001b[0;34m.\u001b[0m\u001b[0munique\u001b[0m\u001b[0;34m(\u001b[0m\u001b[0mgrid_points\u001b[0m\u001b[0;34m)\u001b[0m\u001b[0;34m\u001b[0m\u001b[0;34m\u001b[0m\u001b[0m\n\u001b[0;32m----> 2\u001b[0;31m \u001b[0mnp\u001b[0m\u001b[0;34m.\u001b[0m\u001b[0mgcd\u001b[0m\u001b[0;34m.\u001b[0m\u001b[0mreduce\u001b[0m\u001b[0;34m(\u001b[0m\u001b[0mnp\u001b[0m\u001b[0;34m.\u001b[0m\u001b[0munique\u001b[0m\u001b[0;34m(\u001b[0m\u001b[0mgrid_points\u001b[0m\u001b[0;34m)\u001b[0m\u001b[0;34m)\u001b[0m\u001b[0;34m\u001b[0m\u001b[0;34m\u001b[0m\u001b[0m\n\u001b[0m",
      "\u001b[0;31mUFuncTypeError\u001b[0m: ufunc 'gcd' did not contain a loop with signature matching types (None, <class 'numpy.dtype[float64]'>) -> None"
     ]
    }
   ],
   "source": [
    "np.unique(grid_points)\n",
    "np.gcd.reduce(np.unique(grid_points))"
   ]
  },
  {
   "cell_type": "code",
   "execution_count": 119,
   "id": "9db7c497",
   "metadata": {},
   "outputs": [
    {
     "name": "stderr",
     "output_type": "stream",
     "text": [
      "/var/folders/f2/8kc7y9697m59bwltxjd42y300000gn/T/ipykernel_10743/143467000.py:7: RuntimeWarning: invalid value encountered in cast\n",
      "  k_path = np.array((k_path/gcd)*10000, dtype=int)\n"
     ]
    }
   ],
   "source": [
    "k_unique = np.unique(grid_points)\n",
    "k_unique = np.array(np.around(k_unique, 4)*1000, dtype=int)\n",
    "if len(k_unique) > 2:\n",
    "    gcd = np.gcd.reduce(k_unique)\n",
    "else:\n",
    "    gcd = np.gcd(k_unique[0], k_unique[1])\n",
    "k_path = np.array((k_path/gcd)*10000, dtype=int)\n",
    "shrink = int(10000/gcd)"
   ]
  },
  {
   "cell_type": "code",
   "execution_count": 120,
   "id": "f05ea21b",
   "metadata": {},
   "outputs": [
    {
     "name": "stderr",
     "output_type": "stream",
     "text": [
      "/var/folders/f2/8kc7y9697m59bwltxjd42y300000gn/T/ipykernel_10743/4053649238.py:9: RuntimeWarning: invalid value encountered in cast\n",
      "  k_path = np.array((k_path/gcd)*10000, dtype=int)\n"
     ]
    }
   ],
   "source": [
    "k_unique = np.unique(grid_points)\n",
    "\n",
    "# Find the shrinking factor\n",
    "k_unique = np.array(np.around(k_unique, 4)*10000, dtype=int)\n",
    "if len(k_unique) > 2:\n",
    "    gcd = np.gcd.reduce(k_unique)\n",
    "else:\n",
    "    gcd = np.gcd(k_unique[0], k_unique[1])\n",
    "k_path = np.array((k_path/gcd)*10000, dtype=int)\n",
    "shrink = int(10000/gcd)"
   ]
  },
  {
   "cell_type": "code",
   "execution_count": 110,
   "id": "d3e024ab",
   "metadata": {},
   "outputs": [
    {
     "data": {
      "text/plain": [
       "array([49, 49, 50, 50, 50])"
      ]
     },
     "execution_count": 110,
     "metadata": {},
     "output_type": "execute_result"
    }
   ],
   "source": [
    "k_unique"
   ]
  },
  {
   "cell_type": "code",
   "execution_count": 105,
   "id": "14652bc9",
   "metadata": {},
   "outputs": [
    {
     "data": {
      "text/plain": [
       "array([        0, 100000000])"
      ]
     },
     "execution_count": 105,
     "metadata": {},
     "output_type": "execute_result"
    }
   ],
   "source": [
    "k_path"
   ]
  },
  {
   "cell_type": "code",
   "execution_count": 102,
   "id": "0fa14919",
   "metadata": {},
   "outputs": [
    {
     "data": {
      "text/plain": [
       "['BAND\\n',\n",
       " 'BAND STRUCTURE CALCULATION\\n',\n",
       " '98 10000 1 23 23 1 0\\n',\n",
       " '4993 4993 4996  4993 4993 5000\\n',\n",
       " '4993 4993 5000  4993 4993 5003\\n',\n",
       " '4993 4993 5003  4996 4993 4993\\n',\n",
       " '4996 4993 4993  4996 4993 4996\\n',\n",
       " '4996 4993 4996  4996 4993 5000\\n',\n",
       " '4996 4993 5000  4996 4993 5003\\n',\n",
       " '4996 4993 5003  5000 4993 4993\\n',\n",
       " '5000 4993 4993  5000 4993 4996\\n',\n",
       " '5000 4993 4996  5000 4993 5000\\n',\n",
       " '5000 4993 5000  5000 4993 5003\\n',\n",
       " '5000 4993 5003  5000 4993 5006\\n',\n",
       " '5000 4993 5006  5003 4993 4993\\n',\n",
       " '5003 4993 4993  5003 4993 4996\\n',\n",
       " '5003 4993 4996  5003 4993 5000\\n',\n",
       " '5003 4993 5000  5003 4993 5003\\n',\n",
       " '5003 4993 5003  5006 4993 5000\\n',\n",
       " '5006 4993 5000  4993 4996 4993\\n',\n",
       " '4993 4996 4993  4993 4996 4996\\n',\n",
       " '4993 4996 4996  4993 4996 5000\\n',\n",
       " '4993 4996 5000  4993 4996 5003\\n',\n",
       " '4993 4996 5003  4996 4996 4993\\n',\n",
       " '4996 4996 4993  4996 4996 4996\\n',\n",
       " '4996 4996 4996  4996 4996 5000\\n',\n",
       " '4996 4996 5000  4996 4996 5003\\n',\n",
       " '4996 4996 5003  4996 4996 5006\\n',\n",
       " '4996 4996 5006  5000 4996 4993\\n',\n",
       " '5000 4996 4993  5000 4996 4996\\n',\n",
       " '5000 4996 4996  5000 4996 5000\\n',\n",
       " '5000 4996 5000  5000 4996 5003\\n',\n",
       " '5000 4996 5003  5000 4996 5006\\n',\n",
       " '5000 4996 5006  5003 4996 4993\\n',\n",
       " '5003 4996 4993  5003 4996 4996\\n',\n",
       " '5003 4996 4996  5003 4996 5000\\n',\n",
       " '5003 4996 5000  5003 4996 5003\\n',\n",
       " '5003 4996 5003  5003 4996 5006\\n',\n",
       " '5003 4996 5006  5006 4996 4996\\n',\n",
       " '5006 4996 4996  5006 4996 5000\\n',\n",
       " '5006 4996 5000  5006 4996 5003\\n',\n",
       " '5006 4996 5003  4993 5000 4993\\n',\n",
       " '4993 5000 4993  4993 5000 4996\\n',\n",
       " '4993 5000 4996  4993 5000 5000\\n',\n",
       " '4993 5000 5000  4993 5000 5003\\n',\n",
       " '4993 5000 5003  4993 5000 5006\\n',\n",
       " '4993 5000 5006  4996 5000 4993\\n',\n",
       " '4996 5000 4993  4996 5000 4996\\n',\n",
       " '4996 5000 4996  4996 5000 5000\\n',\n",
       " '4996 5000 5000  4996 5000 5003\\n',\n",
       " '4996 5000 5003  4996 5000 5006\\n',\n",
       " '4996 5000 5006  5000 5000 4993\\n',\n",
       " '5000 5000 4993  5000 5000 4996\\n',\n",
       " '5000 5000 4996  5000 5000 5000\\n',\n",
       " '5000 5000 5000  5000 5000 5003\\n',\n",
       " '5000 5000 5003  5000 5000 5006\\n',\n",
       " '5000 5000 5006  5003 5000 4993\\n',\n",
       " '5003 5000 4993  5003 5000 4996\\n',\n",
       " '5003 5000 4996  5003 5000 5000\\n',\n",
       " '5003 5000 5000  5003 5000 5003\\n',\n",
       " '5003 5000 5003  5003 5000 5006\\n',\n",
       " '5003 5000 5006  5006 5000 4993\\n',\n",
       " '5006 5000 4993  5006 5000 4996\\n',\n",
       " '5006 5000 4996  5006 5000 5000\\n',\n",
       " '5006 5000 5000  5006 5000 5003\\n',\n",
       " '5006 5000 5003  5006 5000 5006\\n',\n",
       " '5006 5000 5006  4993 5003 4993\\n',\n",
       " '4993 5003 4993  4993 5003 4996\\n',\n",
       " '4993 5003 4996  4993 5003 5000\\n',\n",
       " '4993 5003 5000  4993 5003 5003\\n',\n",
       " '4993 5003 5003  4996 5003 4993\\n',\n",
       " '4996 5003 4993  4996 5003 4996\\n',\n",
       " '4996 5003 4996  4996 5003 5000\\n',\n",
       " '4996 5003 5000  4996 5003 5003\\n',\n",
       " '4996 5003 5003  4996 5003 5006\\n',\n",
       " '4996 5003 5006  5000 5003 4993\\n',\n",
       " '5000 5003 4993  5000 5003 4996\\n',\n",
       " '5000 5003 4996  5000 5003 5000\\n',\n",
       " '5000 5003 5000  5000 5003 5003\\n',\n",
       " '5000 5003 5003  5000 5003 5006\\n',\n",
       " '5000 5003 5006  5003 5003 4993\\n',\n",
       " '5003 5003 4993  5003 5003 4996\\n',\n",
       " '5003 5003 4996  5003 5003 5000\\n',\n",
       " '5003 5003 5000  5003 5003 5003\\n',\n",
       " '5003 5003 5003  5003 5003 5006\\n',\n",
       " '5003 5003 5006  5006 5003 4996\\n',\n",
       " '5006 5003 4996  5006 5003 5000\\n',\n",
       " '5006 5003 5000  5006 5003 5003\\n',\n",
       " '5006 5003 5003  4993 5006 5000\\n',\n",
       " '4993 5006 5000  4996 5006 4996\\n',\n",
       " '4996 5006 4996  4996 5006 5000\\n',\n",
       " '4996 5006 5000  4996 5006 5003\\n',\n",
       " '4996 5006 5003  5000 5006 4993\\n',\n",
       " '5000 5006 4993  5000 5006 4996\\n',\n",
       " '5000 5006 4996  5000 5006 5000\\n',\n",
       " '5000 5006 5000  5000 5006 5003\\n',\n",
       " '5000 5006 5003  5000 5006 5006\\n',\n",
       " '5000 5006 5006  5003 5006 4996\\n',\n",
       " '5003 5006 4996  5003 5006 5000\\n',\n",
       " '5003 5006 5000  5003 5006 5003\\n',\n",
       " '5003 5006 5003  5006 5006 5000\\n',\n",
       " 'END\\n']"
      ]
     },
     "execution_count": 102,
     "metadata": {},
     "output_type": "execute_result"
    }
   ],
   "source": [
    "band_input = Properties_input().make_bands_block(grid_points.tolist(),1,23,23)\n",
    "band_input.property_block"
   ]
  },
  {
   "cell_type": "code",
   "execution_count": 65,
   "id": "96cb64c1",
   "metadata": {},
   "outputs": [
    {
     "data": {
      "text/plain": [
       "0.14285714285714285"
      ]
     },
     "execution_count": 65,
     "metadata": {},
     "output_type": "execute_result"
    }
   ],
   "source": [
    "1/7"
   ]
  },
  {
   "cell_type": "code",
   "execution_count": null,
   "id": "cf009a3c",
   "metadata": {},
   "outputs": [],
   "source": [
    "make_bands_block(k_path, n_kpoints, first_band, last_band, print_eig=0, print_option=1, title='BAND STRUCTURE CALCULATION')"
   ]
  },
  {
   "cell_type": "code",
   "execution_count": 197,
   "id": "324c9f65",
   "metadata": {},
   "outputs": [
    {
     "data": {
      "text/plain": [
       "10000"
      ]
     },
     "execution_count": 197,
     "metadata": {},
     "output_type": "execute_result"
    }
   ],
   "source": [
    "10**4"
   ]
  },
  {
   "cell_type": "code",
   "execution_count": 235,
   "id": "41ef2d04",
   "metadata": {},
   "outputs": [
    {
     "name": "stdout",
     "output_type": "stream",
     "text": [
      "[    0  8275 50000]\n",
      "25\n",
      "4000\n"
     ]
    }
   ],
   "source": [
    "n_zeros = 5\n",
    "k_unique = [0,0.082751,0.5]\n",
    "#k_path = k_unique\n",
    "# Find the shrinking factor\n",
    "k_unique = np.array(np.around(k_unique, n_zeros)*10**n_zeros, dtype=int)\n",
    "print(k_unique)\n",
    "if len(k_unique) > 2:\n",
    "    gcd = np.gcd.reduce(k_unique)\n",
    "    print(gcd)\n",
    "else:\n",
    "    gcd = np.gcd(k_unique[0], k_unique[1])\n",
    "    print(gcd)\n",
    "k_path = np.array((k_unique/gcd)*10**n_zeros, dtype=int)\n",
    "shrink = int(10**n_zeros/gcd)\n",
    "print(shrink)"
   ]
  },
  {
   "cell_type": "code",
   "execution_count": 234,
   "id": "4d9f09ba",
   "metadata": {},
   "outputs": [
    {
     "data": {
      "text/plain": [
       "array([    0.,  8275., 50000.])"
      ]
     },
     "execution_count": 234,
     "metadata": {},
     "output_type": "execute_result"
    }
   ],
   "source": [
    "k_path/shrink"
   ]
  },
  {
   "cell_type": "code",
   "execution_count": 93,
   "id": "b73c620b",
   "metadata": {},
   "outputs": [
    {
     "name": "stdout",
     "output_type": "stream",
     "text": [
      "Fractional Numbers: [0.1, 0.2, 0.3]\n",
      "GCD: 1\n",
      "Scaled Numbers: [100000, 200000, 300000]\n"
     ]
    }
   ],
   "source": [
    "from fractions import Fraction\n",
    "import numpy as np\n",
    "\n",
    "def find_gcd_and_scaled_numbers(fractional_numbers, decimal_places=4):\n",
    "    # Convert fractional numbers to Fraction objects\n",
    "    fractions = [Fraction(num).limit_denominator(10**decimal_places) for num in fractional_numbers]\n",
    "\n",
    "    # Extract numerators\n",
    "    numerators = [frac.numerator for frac in fractions]\n",
    "\n",
    "    # Find the gcd of numerators\n",
    "    if len(numerators) > 2:\n",
    "        gcd = np.gcd.reduce(numerators)\n",
    "    else:\n",
    "        gcd = np.gcd(numerators[0], numerators[1])\n",
    "\n",
    "    # Calculate the scaling factor\n",
    "    scaling_factor = int(10**decimal_places) // gcd\n",
    "\n",
    "    # Scale the numbers to integers\n",
    "    scaled_numbers = [int(num * scaling_factor) for num in fractional_numbers]\n",
    "\n",
    "    return gcd, scaled_numbers\n",
    "\n",
    "# Example usage\n",
    "fractional_numbers = [0.1, 0.2, 0.3]\n",
    "decimal_places = 6  # Set the desired number of decimal places\n",
    "\n",
    "gcd, scaled_numbers = find_gcd_and_scaled_numbers(fractional_numbers, decimal_places)\n",
    "\n",
    "print(\"Fractional Numbers:\", fractional_numbers)\n",
    "print(\"GCD:\", gcd)\n",
    "print(\"Scaled Numbers:\", scaled_numbers)\n"
   ]
  },
  {
   "cell_type": "code",
   "execution_count": null,
   "id": "db5b9bb8",
   "metadata": {},
   "outputs": [],
   "source": []
  }
 ],
 "metadata": {
  "kernelspec": {
   "display_name": "Python 3 (ipykernel)",
   "language": "python",
   "name": "python3"
  },
  "language_info": {
   "codemirror_mode": {
    "name": "ipython",
    "version": 3
   },
   "file_extension": ".py",
   "mimetype": "text/x-python",
   "name": "python",
   "nbconvert_exporter": "python",
   "pygments_lexer": "ipython3",
   "version": "3.9.7"
  }
 },
 "nbformat": 4,
 "nbformat_minor": 5
}
